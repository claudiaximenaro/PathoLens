{
 "cells": [
  {
   "cell_type": "code",
   "execution_count": 15,
   "id": "fb2a5c21",
   "metadata": {},
   "outputs": [
    {
     "name": "stdout",
     "output_type": "stream",
     "text": [
      "Número de secuencias: 196770\n",
      "Longitud media: 1464.62 bases\n",
      "Desviación estándar: 82.54991516761028\n"
     ]
    }
   ],
   "source": [
    "from Bio import SeqIO\n",
    "from statistics import stdev\n",
    "\n",
    "# Ruta al archivo FASTA\n",
    "fasta_file = \"/Users/claudia.restrepo-ortiz/Documents/MARBEC/JC/Pathogens/PathoLens/data/output/HUMAN/HUMAN_Pathogen_DB.fasta\"\n",
    "\n",
    "# Leer todas las secuencias\n",
    "sequences = list(SeqIO.parse(fasta_file, \"fasta\"))\n",
    "\n",
    "\n",
    "# Calcular longitudes\n",
    "lengths = [len(record.seq) for record in sequences]\n",
    "\n",
    "\n",
    "# Calcular longitud media\n",
    "mean_length = sum(lengths) / len(lengths) if lengths else 0\n",
    "\n",
    "print(f\"Número de secuencias: {len(sequences)}\")\n",
    "print(f\"Longitud media: {mean_length:.2f} bases\")\n",
    "print(\"Desviación estándar:\", stdev(lengths))\n"
   ]
  },
  {
   "cell_type": "code",
   "execution_count": 14,
   "id": "fb1ebf9e",
   "metadata": {},
   "outputs": [
    {
     "name": "stdout",
     "output_type": "stream",
     "text": [
      "El archivo contiene 2224690 secuencias.\n"
     ]
    }
   ],
   "source": [
    "def contar_secuencias(fasta_file):\n",
    "    with open(fasta_file, \"r\") as file:\n",
    "        count = sum(1 for line in file if line.startswith(\">\"))\n",
    "    return count\n",
    "\n",
    "# Ejemplo de uso\n",
    "fasta_file = \"/Users/claudia.restrepo-ortiz/Documents/MARBEC/JC/Pathogens/PathoLens/data/input/SILVA/SILVA_138.2_SSURef_tax_silva.fasta\"\n",
    "print(f\"El archivo contiene {contar_secuencias(fasta_file)} secuencias.\")"
   ]
  }
 ],
 "metadata": {
  "kernelspec": {
   "display_name": "Myenv",
   "language": "python",
   "name": "python3"
  },
  "language_info": {
   "codemirror_mode": {
    "name": "ipython",
    "version": 3
   },
   "file_extension": ".py",
   "mimetype": "text/x-python",
   "name": "python",
   "nbconvert_exporter": "python",
   "pygments_lexer": "ipython3",
   "version": "3.10.9"
  }
 },
 "nbformat": 4,
 "nbformat_minor": 5
}
