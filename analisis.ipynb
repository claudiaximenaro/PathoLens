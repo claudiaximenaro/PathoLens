{
 "cells": [
  {
   "cell_type": "code",
   "execution_count": 12,
   "id": "fb2a5c21",
   "metadata": {},
   "outputs": [
    {
     "name": "stdout",
     "output_type": "stream",
     "text": [
      "Número de secuencias: 34481\n",
      "Longitud media: 1447.62 bases\n",
      "Desviación estándar: 81.46854411912776\n"
     ]
    }
   ],
   "source": [
    "from Bio import SeqIO\n",
    "from statistics import stdev\n",
    "\n",
    "# Ruta al archivo FASTA\n",
    "fasta_file = \"/Users/claudia.restrepo-ortiz/Documents/MARBEC/JC/Pathogens/PathoLens/data/output/CRUSTACEAN/CRUSTACEAN_Pathogen_DB_curated.fasta\"\n",
    "\n",
    "# Leer todas las secuencias\n",
    "sequences = list(SeqIO.parse(fasta_file, \"fasta\"))\n",
    "\n",
    "\n",
    "# Calcular longitudes\n",
    "lengths = [len(record.seq) for record in sequences]\n",
    "\n",
    "\n",
    "# Calcular longitud media\n",
    "mean_length = sum(lengths) / len(lengths) if lengths else 0\n",
    "\n",
    "print(f\"Número de secuencias: {len(sequences)}\")\n",
    "print(f\"Longitud media: {mean_length:.2f} bases\")\n",
    "print(\"Desviación estándar:\", stdev(lengths))\n"
   ]
  }
 ],
 "metadata": {
  "kernelspec": {
   "display_name": "Myenv",
   "language": "python",
   "name": "python3"
  },
  "language_info": {
   "codemirror_mode": {
    "name": "ipython",
    "version": 3
   },
   "file_extension": ".py",
   "mimetype": "text/x-python",
   "name": "python",
   "nbconvert_exporter": "python",
   "pygments_lexer": "ipython3",
   "version": "3.10.9"
  }
 },
 "nbformat": 4,
 "nbformat_minor": 5
}
